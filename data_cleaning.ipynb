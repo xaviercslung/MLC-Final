{
 "cells": [
  {
   "cell_type": "code",
   "execution_count": 1,
   "metadata": {},
   "outputs": [],
   "source": [
    "import pandas as pd\n",
    "import numpy as np\n",
    "import os\n",
    "import gzip\n",
    "import shutil"
   ]
  },
  {
   "cell_type": "code",
   "execution_count": 2,
   "metadata": {},
   "outputs": [],
   "source": [
    "# get all directories\n",
    "data_directory = r'./safegraph_data/'\n",
    "allfile = []\n",
    "for subdir, dirs, files  in os.walk(data_directory):\n",
    "    for filename in files:\n",
    "        filepath = subdir + os.sep + filename\n",
    "        allfile.append(filepath)"
   ]
  },
  {
   "cell_type": "code",
   "execution_count": null,
   "metadata": {},
   "outputs": [],
   "source": [
    "# unzip files\n",
    "for file in allfile:\n",
    "    _,_,year,month,_,file_name = file.split('/')\n",
    "    file_name = file_name[:-3]\n",
    "    if (int(month)>2 and int(month)<6) or (int(year)==2021 and int(month)!=4):\n",
    "        with gzip.open(file, 'rb') as f_in:\n",
    "            with open('./data/'+file_name, 'wb') as f_out:\n",
    "                shutil.copyfileobj(f_in, f_out)"
   ]
  },
  {
   "cell_type": "code",
   "execution_count": null,
   "metadata": {},
   "outputs": [],
   "source": []
  }
 ],
 "metadata": {
  "kernelspec": {
   "display_name": "Python 3",
   "language": "python",
   "name": "python3"
  },
  "language_info": {
   "codemirror_mode": {
    "name": "ipython",
    "version": 3
   },
   "file_extension": ".py",
   "mimetype": "text/x-python",
   "name": "python",
   "nbconvert_exporter": "python",
   "pygments_lexer": "ipython3",
   "version": "3.8.5"
  }
 },
 "nbformat": 4,
 "nbformat_minor": 4
}
